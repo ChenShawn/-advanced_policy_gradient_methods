{
 "cells": [
  {
   "cell_type": "code",
   "execution_count": 1,
   "metadata": {},
   "outputs": [
    {
     "name": "stderr",
     "output_type": "stream",
     "text": [
      "/home/yuki/anaconda3/lib/python3.6/site-packages/h5py/__init__.py:36: FutureWarning: Conversion of the second argument of issubdtype from `float` to `np.floating` is deprecated. In future, it will be treated as `np.float64 == np.dtype(float).type`.\n",
      "  from ._conv import register_converters as _register_converters\n"
     ]
    },
    {
     "name": "stdout",
     "output_type": "stream",
     "text": [
      "Okay\n"
     ]
    }
   ],
   "source": [
    "import tensorflow as tf\n",
    "import numpy as np\n",
    "import os\n",
    "import gym\n",
    "\n",
    "from TNPG import AgentEvaluator, TNPGModel\n",
    "print('Okay')"
   ]
  },
  {
   "cell_type": "code",
   "execution_count": null,
   "metadata": {},
   "outputs": [
    {
     "name": "stdout",
     "output_type": "stream",
     "text": [
      " [*] Building advantage function...\n",
      " [*] Building policy function...\n",
      " [*] Building natural gradient...\n"
     ]
    }
   ],
   "source": [
    "class Args(object):\n",
    "    iter = 3000\n",
    "    v_lr = 2e-6\n",
    "    pi_lr = 1e-6\n",
    "    gamma = 0.9\n",
    "    ep_maxlen = 200\n",
    "    v_iter = 1\n",
    "    pi_iter = 1\n",
    "    model_dir = './ckpt/tnpg/'\n",
    "    logdir = './logs/tnpg/'\n",
    "    evaluate_every = 50\n",
    "\n",
    "\n",
    "# Definition of global variables\n",
    "args = Args()\n",
    "env_name = 'MountainCarContinuous-v0'\n",
    "env = gym.make(env_name)\n",
    "A_DIM = env.action_space.shape[0]\n",
    "A_LOWER = env.action_space.low[0]\n",
    "A_HIGHER = env.action_space.high[0]\n",
    "\n",
    "evaluator = AgentEvaluator()\n",
    "agent = TNPGModel(args.v_lr, args.pi_lr, args.model_dir)"
   ]
  },
  {
   "cell_type": "code",
   "execution_count": null,
   "metadata": {},
   "outputs": [],
   "source": [
    "s = env.reset()\n",
    "agent.choose_action(s)"
   ]
  },
  {
   "cell_type": "code",
   "execution_count": null,
   "metadata": {},
   "outputs": [],
   "source": [
    "def collect_one_trajectory(env, agent, maxlen, normalize_state=False, normalize_reward=False):\n",
    "    \"\"\"collect_one_trajectory\n",
    "    :param env: type gym.Env registered\n",
    "    :param agent: type TNPGModel\n",
    "    :param maxlen: maximum length of each trajectory\n",
    "    :param normalize_state: whether normalizing observations\n",
    "    :param normalize_reward: whether normalizing rewards\n",
    "    :return: triplet (s, a, r) of type np.array\n",
    "    \"\"\"\n",
    "    s = env.reset()\n",
    "    # Interact with environment\n",
    "    buffer_s, buffer_a, buffer_r = [], [], []\n",
    "    for it in range(maxlen):\n",
    "        if normalize_state:\n",
    "            s = np.clip((s - s.mean()) / s.std(), -5.0, 5.0)\n",
    "        a = agent.choose_action(s)\n",
    "        buffer_s.append(s[None, :])\n",
    "        s, r, done, _ = env.step(a)\n",
    "        buffer_a.append(a[None, :])\n",
    "        if normalize_reward:\n",
    "            r = (r - 8.0) / 8.0\n",
    "        buffer_r.append(r)\n",
    "        if done:\n",
    "            break\n",
    "    # Accumulate rewards\n",
    "    gamma = 1.0\n",
    "    for it in range(len(buffer_r) - 2, -1, -1):\n",
    "        buffer_r[it] = buffer_r[it + 1] + gamma * buffer_r[it]\n",
    "        gamma *= args.gamma\n",
    "    states_array = np.concatenate(buffer_s, axis=0)\n",
    "    actions_array = np.concatenate(buffer_a, axis=0)\n",
    "    rewards_array = np.array(buffer_r, dtype=np.float32)[:, None]\n",
    "    return states_array, actions_array, rewards_array\n",
    "\n",
    "\n",
    "idx = 3\n",
    "s, a, r = collect_one_trajectory(env, agent, args.ep_maxlen)\n",
    "feed_dict = {agent.state: s, agent.action: a, agent.reward: r}\n",
    "g, cg = agent.sess.run([agent.pi_grads[idx], agent.conj_grads[idx][0]], feed_dict=feed_dict)\n",
    "print('-----------------------------')\n",
    "print('Variable ' + agent.conj_grads[idx][1].name)\n",
    "print('Gradient: \\n', g)\n",
    "print('Conjugate gradient: \\n', cg)\n",
    "print('Inner product: ', np.sum(g * cg))"
   ]
  },
  {
   "cell_type": "code",
   "execution_count": 5,
   "metadata": {
    "collapsed": true
   },
   "outputs": [
    {
     "ename": "NotImplementedError",
     "evalue": "abstract",
     "output_type": "error",
     "traceback": [
      "\u001b[0;31m---------------------------------------------------------------------------\u001b[0m",
      "\u001b[0;31mNotImplementedError\u001b[0m                       Traceback (most recent call last)",
      "\u001b[0;32m<ipython-input-5-b15577552fd9>\u001b[0m in \u001b[0;36m<module>\u001b[0;34m()\u001b[0m\n\u001b[1;32m      2\u001b[0m \u001b[0menv\u001b[0m\u001b[0;34m.\u001b[0m\u001b[0mreset\u001b[0m\u001b[0;34m(\u001b[0m\u001b[0;34m)\u001b[0m\u001b[0;34m\u001b[0m\u001b[0m\n\u001b[1;32m      3\u001b[0m \u001b[0;32mfor\u001b[0m \u001b[0mit\u001b[0m \u001b[0;32min\u001b[0m \u001b[0mrange\u001b[0m\u001b[0;34m(\u001b[0m\u001b[0;36m200\u001b[0m\u001b[0;34m)\u001b[0m\u001b[0;34m:\u001b[0m\u001b[0;34m\u001b[0m\u001b[0m\n\u001b[0;32m----> 4\u001b[0;31m     \u001b[0menv\u001b[0m\u001b[0;34m.\u001b[0m\u001b[0mrender\u001b[0m\u001b[0;34m(\u001b[0m\u001b[0;34m)\u001b[0m\u001b[0;34m\u001b[0m\u001b[0m\n\u001b[0m\u001b[1;32m      5\u001b[0m     \u001b[0mobs\u001b[0m\u001b[0;34m,\u001b[0m \u001b[0mr\u001b[0m\u001b[0;34m,\u001b[0m \u001b[0mdone\u001b[0m\u001b[0;34m,\u001b[0m \u001b[0minfo\u001b[0m \u001b[0;34m=\u001b[0m \u001b[0menv\u001b[0m\u001b[0;34m.\u001b[0m\u001b[0mstep\u001b[0m\u001b[0;34m(\u001b[0m\u001b[0menv\u001b[0m\u001b[0;34m.\u001b[0m\u001b[0maction_space\u001b[0m\u001b[0;34m.\u001b[0m\u001b[0msample\u001b[0m\u001b[0;34m(\u001b[0m\u001b[0;34m)\u001b[0m\u001b[0;34m)\u001b[0m\u001b[0;34m\u001b[0m\u001b[0m\n\u001b[1;32m      6\u001b[0m     \u001b[0;32mif\u001b[0m \u001b[0mdone\u001b[0m\u001b[0;34m:\u001b[0m\u001b[0;34m\u001b[0m\u001b[0m\n",
      "\u001b[0;32m~/anaconda3/lib/python3.6/site-packages/gym/envs/classic_control/continuous_mountain_car.py\u001b[0m in \u001b[0;36mrender\u001b[0;34m(self, mode)\u001b[0m\n\u001b[1;32m    101\u001b[0m         \u001b[0;32mif\u001b[0m \u001b[0mself\u001b[0m\u001b[0;34m.\u001b[0m\u001b[0mviewer\u001b[0m \u001b[0;32mis\u001b[0m \u001b[0;32mNone\u001b[0m\u001b[0;34m:\u001b[0m\u001b[0;34m\u001b[0m\u001b[0m\n\u001b[1;32m    102\u001b[0m             \u001b[0;32mfrom\u001b[0m \u001b[0mgym\u001b[0m\u001b[0;34m.\u001b[0m\u001b[0menvs\u001b[0m\u001b[0;34m.\u001b[0m\u001b[0mclassic_control\u001b[0m \u001b[0;32mimport\u001b[0m \u001b[0mrendering\u001b[0m\u001b[0;34m\u001b[0m\u001b[0m\n\u001b[0;32m--> 103\u001b[0;31m             \u001b[0mself\u001b[0m\u001b[0;34m.\u001b[0m\u001b[0mviewer\u001b[0m \u001b[0;34m=\u001b[0m \u001b[0mrendering\u001b[0m\u001b[0;34m.\u001b[0m\u001b[0mViewer\u001b[0m\u001b[0;34m(\u001b[0m\u001b[0mscreen_width\u001b[0m\u001b[0;34m,\u001b[0m \u001b[0mscreen_height\u001b[0m\u001b[0;34m)\u001b[0m\u001b[0;34m\u001b[0m\u001b[0m\n\u001b[0m\u001b[1;32m    104\u001b[0m             \u001b[0mxs\u001b[0m \u001b[0;34m=\u001b[0m \u001b[0mnp\u001b[0m\u001b[0;34m.\u001b[0m\u001b[0mlinspace\u001b[0m\u001b[0;34m(\u001b[0m\u001b[0mself\u001b[0m\u001b[0;34m.\u001b[0m\u001b[0mmin_position\u001b[0m\u001b[0;34m,\u001b[0m \u001b[0mself\u001b[0m\u001b[0;34m.\u001b[0m\u001b[0mmax_position\u001b[0m\u001b[0;34m,\u001b[0m \u001b[0;36m100\u001b[0m\u001b[0;34m)\u001b[0m\u001b[0;34m\u001b[0m\u001b[0m\n\u001b[1;32m    105\u001b[0m             \u001b[0mys\u001b[0m \u001b[0;34m=\u001b[0m \u001b[0mself\u001b[0m\u001b[0;34m.\u001b[0m\u001b[0m_height\u001b[0m\u001b[0;34m(\u001b[0m\u001b[0mxs\u001b[0m\u001b[0;34m)\u001b[0m\u001b[0;34m\u001b[0m\u001b[0m\n",
      "\u001b[0;32m~/anaconda3/lib/python3.6/site-packages/gym/envs/classic_control/rendering.py\u001b[0m in \u001b[0;36m__init__\u001b[0;34m(self, width, height, display)\u001b[0m\n\u001b[1;32m     49\u001b[0m         \u001b[0mself\u001b[0m\u001b[0;34m.\u001b[0m\u001b[0mwidth\u001b[0m \u001b[0;34m=\u001b[0m \u001b[0mwidth\u001b[0m\u001b[0;34m\u001b[0m\u001b[0m\n\u001b[1;32m     50\u001b[0m         \u001b[0mself\u001b[0m\u001b[0;34m.\u001b[0m\u001b[0mheight\u001b[0m \u001b[0;34m=\u001b[0m \u001b[0mheight\u001b[0m\u001b[0;34m\u001b[0m\u001b[0m\n\u001b[0;32m---> 51\u001b[0;31m         \u001b[0mself\u001b[0m\u001b[0;34m.\u001b[0m\u001b[0mwindow\u001b[0m \u001b[0;34m=\u001b[0m \u001b[0mpyglet\u001b[0m\u001b[0;34m.\u001b[0m\u001b[0mwindow\u001b[0m\u001b[0;34m.\u001b[0m\u001b[0mWindow\u001b[0m\u001b[0;34m(\u001b[0m\u001b[0mwidth\u001b[0m\u001b[0;34m=\u001b[0m\u001b[0mwidth\u001b[0m\u001b[0;34m,\u001b[0m \u001b[0mheight\u001b[0m\u001b[0;34m=\u001b[0m\u001b[0mheight\u001b[0m\u001b[0;34m,\u001b[0m \u001b[0mdisplay\u001b[0m\u001b[0;34m=\u001b[0m\u001b[0mdisplay\u001b[0m\u001b[0;34m)\u001b[0m\u001b[0;34m\u001b[0m\u001b[0m\n\u001b[0m\u001b[1;32m     52\u001b[0m         \u001b[0mself\u001b[0m\u001b[0;34m.\u001b[0m\u001b[0mwindow\u001b[0m\u001b[0;34m.\u001b[0m\u001b[0mon_close\u001b[0m \u001b[0;34m=\u001b[0m \u001b[0mself\u001b[0m\u001b[0;34m.\u001b[0m\u001b[0mwindow_closed_by_user\u001b[0m\u001b[0;34m\u001b[0m\u001b[0m\n\u001b[1;32m     53\u001b[0m         \u001b[0mself\u001b[0m\u001b[0;34m.\u001b[0m\u001b[0misopen\u001b[0m \u001b[0;34m=\u001b[0m \u001b[0;32mTrue\u001b[0m\u001b[0;34m\u001b[0m\u001b[0m\n",
      "\u001b[0;32m~/anaconda3/lib/python3.6/site-packages/pyglet/window/__init__.py\u001b[0m in \u001b[0;36m__init__\u001b[0;34m(self, width, height, caption, resizable, style, fullscreen, visible, vsync, display, screen, config, context, mode)\u001b[0m\n\u001b[1;32m    502\u001b[0m \u001b[0;34m\u001b[0m\u001b[0m\n\u001b[1;32m    503\u001b[0m         \u001b[0;32mif\u001b[0m \u001b[0;32mnot\u001b[0m \u001b[0mscreen\u001b[0m\u001b[0;34m:\u001b[0m\u001b[0;34m\u001b[0m\u001b[0m\n\u001b[0;32m--> 504\u001b[0;31m             \u001b[0mscreen\u001b[0m \u001b[0;34m=\u001b[0m \u001b[0mdisplay\u001b[0m\u001b[0;34m.\u001b[0m\u001b[0mget_default_screen\u001b[0m\u001b[0;34m(\u001b[0m\u001b[0;34m)\u001b[0m\u001b[0;34m\u001b[0m\u001b[0m\n\u001b[0m\u001b[1;32m    505\u001b[0m \u001b[0;34m\u001b[0m\u001b[0m\n\u001b[1;32m    506\u001b[0m         \u001b[0;32mif\u001b[0m \u001b[0;32mnot\u001b[0m \u001b[0mconfig\u001b[0m\u001b[0;34m:\u001b[0m\u001b[0;34m\u001b[0m\u001b[0m\n",
      "\u001b[0;32m~/anaconda3/lib/python3.6/site-packages/pyglet/canvas/base.py\u001b[0m in \u001b[0;36mget_default_screen\u001b[0;34m(self)\u001b[0m\n\u001b[1;32m     71\u001b[0m         \u001b[0;34m:\u001b[0m\u001b[0mrtype\u001b[0m\u001b[0;34m:\u001b[0m \u001b[0;34m:\u001b[0m\u001b[0;32mclass\u001b[0m\u001b[0;34m:\u001b[0m\u001b[0;31m`\u001b[0m\u001b[0mScreen\u001b[0m\u001b[0;31m`\u001b[0m\u001b[0;34m\u001b[0m\u001b[0m\n\u001b[1;32m     72\u001b[0m         '''\n\u001b[0;32m---> 73\u001b[0;31m         \u001b[0;32mreturn\u001b[0m \u001b[0mself\u001b[0m\u001b[0;34m.\u001b[0m\u001b[0mget_screens\u001b[0m\u001b[0;34m(\u001b[0m\u001b[0;34m)\u001b[0m\u001b[0;34m[\u001b[0m\u001b[0;36m0\u001b[0m\u001b[0;34m]\u001b[0m\u001b[0;34m\u001b[0m\u001b[0m\n\u001b[0m\u001b[1;32m     74\u001b[0m \u001b[0;34m\u001b[0m\u001b[0m\n\u001b[1;32m     75\u001b[0m     \u001b[0;32mdef\u001b[0m \u001b[0mget_windows\u001b[0m\u001b[0;34m(\u001b[0m\u001b[0mself\u001b[0m\u001b[0;34m)\u001b[0m\u001b[0;34m:\u001b[0m\u001b[0;34m\u001b[0m\u001b[0m\n",
      "\u001b[0;32m~/anaconda3/lib/python3.6/site-packages/pyglet/canvas/base.py\u001b[0m in \u001b[0;36mget_screens\u001b[0;34m(self)\u001b[0m\n\u001b[1;32m     63\u001b[0m         \u001b[0;34m:\u001b[0m\u001b[0mrtype\u001b[0m\u001b[0;34m:\u001b[0m \u001b[0mlist\u001b[0m \u001b[0mof\u001b[0m \u001b[0;34m:\u001b[0m\u001b[0;32mclass\u001b[0m\u001b[0;34m:\u001b[0m\u001b[0;31m`\u001b[0m\u001b[0mScreen\u001b[0m\u001b[0;31m`\u001b[0m\u001b[0;34m\u001b[0m\u001b[0m\n\u001b[1;32m     64\u001b[0m         '''\n\u001b[0;32m---> 65\u001b[0;31m         \u001b[0;32mraise\u001b[0m \u001b[0mNotImplementedError\u001b[0m\u001b[0;34m(\u001b[0m\u001b[0;34m'abstract'\u001b[0m\u001b[0;34m)\u001b[0m\u001b[0;34m\u001b[0m\u001b[0m\n\u001b[0m\u001b[1;32m     66\u001b[0m \u001b[0;34m\u001b[0m\u001b[0m\n\u001b[1;32m     67\u001b[0m     \u001b[0;32mdef\u001b[0m \u001b[0mget_default_screen\u001b[0m\u001b[0;34m(\u001b[0m\u001b[0mself\u001b[0m\u001b[0;34m)\u001b[0m\u001b[0;34m:\u001b[0m\u001b[0;34m\u001b[0m\u001b[0m\n",
      "\u001b[0;31mNotImplementedError\u001b[0m: abstract"
     ]
    }
   ],
   "source": [
    "env = env.unwrapped\n",
    "env.reset()\n",
    "for it in range(200):\n",
    "    env.render()\n",
    "    obs, r, done, info = env.step(env.action_space.sample())\n",
    "    if done:\n",
    "        break"
   ]
  },
  {
   "cell_type": "code",
   "execution_count": 8,
   "metadata": {},
   "outputs": [
    {
     "name": "stdout",
     "output_type": "stream",
     "text": [
      "[-0.54593634  0.        ]\n"
     ]
    },
    {
     "data": {
      "text/plain": [
       "array([[nan]], dtype=float32)"
      ]
     },
     "execution_count": 8,
     "metadata": {},
     "output_type": "execute_result"
    }
   ],
   "source": [
    "s = env.reset()\n",
    "print(s)\n",
    "agent.sess.run(agent.value, feed_dict={agent.state: s[None, :]})"
   ]
  },
  {
   "cell_type": "code",
   "execution_count": 5,
   "metadata": {},
   "outputs": [
    {
     "name": "stdout",
     "output_type": "stream",
     "text": [
      "---------------------------\n",
      "Variable:\n",
      " [[-0.04891384 -0.99880296]\n",
      " [-0.99880296  0.04891396]]\n",
      "Hessian matrix of rank 4:\n",
      " [[ 0.01015663 -0.01805232  0.00633197  0.00112966]\n",
      " [-0.01805232  0.00555454  0.00112966  0.01567117]\n",
      " [ 0.00633197  0.00112966 -0.00611497 -0.02305517]\n",
      " [ 0.00112966  0.01567117 -0.02305517  0.02079414]]\n",
      "Gradient of tested/dense/kernel:0:\n",
      " [[ 0.04829097 -0.04086177]\n",
      " [-0.02593973  0.03705697]]\n",
      "Conjugate gradient using TensorFlow:\n",
      " [[2.6058967  0.77552104]\n",
      " [0.8259914  2.8457725 ]]\n",
      "Conjugate gradient using numpy:\n",
      " [[nan]\n",
      " [nan]\n",
      " [nan]\n",
      " [nan]]\n",
      "Newton's method:\n",
      " [[ 4.124737  ]\n",
      " [-0.05346113]\n",
      " [ 0.47820258]\n",
      " [ 2.1284966 ]]\n"
     ]
    },
    {
     "name": "stderr",
     "output_type": "stream",
     "text": [
      "/home/yuki/anaconda3/lib/python3.6/site-packages/ipykernel_launcher.py:40: RuntimeWarning: invalid value encountered in float_scalars\n"
     ]
    }
   ],
   "source": [
    "def hessian_vector_product(x, grad, variable):\n",
    "    kl_grad_prod = tf.reduce_sum(grad * x)\n",
    "    return tf.stop_gradient(tf.gradients(kl_grad_prod, variable)[0])\n",
    "\n",
    "\n",
    "def build_conjugate_gradient(x, kl_grad, variable, n_iter=10, func_Ax=hessian_vector_product):\n",
    "    \"\"\"build_conjugate_gradient\n",
    "    :param x: type tf.Tensor, the initial value of x\n",
    "    :param kl_grad: type tf.Tensor, the gradient of the objective\n",
    "    :param variable: type tf.Variable\n",
    "    :return: the converged conjugate gradient vector \\tilde{x} = H^{-1}x\n",
    "\n",
    "    Truncated natural policy gradient uses fixed number of iterations in the inner loop\n",
    "    Reference: https://en.wikipedia.org/wiki/Conjugate_gradient_method\n",
    "    \"\"\"\n",
    "    x = tf.stop_gradient(x)\n",
    "    r = x - func_Ax(x, kl_grad, variable)\n",
    "    p = tf.stop_gradient(r)\n",
    "    r_dot_r = tf.reduce_sum(tf.square(r))\n",
    "    for k in range(n_iter):\n",
    "        Ap = func_Ax(p, kl_grad, variable)\n",
    "        p_dot_Ap = tf.reduce_sum(p * Ap)\n",
    "        alpha = r_dot_r / (p_dot_Ap + 1e-20)\n",
    "        x = x + alpha * p\n",
    "        r = r - alpha * Ap\n",
    "        r_dot_r_new = tf.reduce_sum(tf.square(r))\n",
    "        beta = r_dot_r_new / (r_dot_rv + 1e-20)\n",
    "        r_dot_r = r_dot_r_new\n",
    "        p = r + beta * p\n",
    "    return x\n",
    "\n",
    "\n",
    "def conjugate_gradient(x, A, n_iter=30):\n",
    "    r = x - np.matmul(A, x)\n",
    "    p = r.copy()\n",
    "    r_dot_r = np.square(r).sum()\n",
    "    for k in range(n_iter):\n",
    "        Ap = np.matmul(A, p)\n",
    "        p_dot_Ap = np.sum(p * Ap)\n",
    "        alpha = r_dot_r / p_dot_Ap\n",
    "        x = x + alpha * p\n",
    "        r = r - alpha * Ap\n",
    "        r_dot_r_new = np.square(r).sum()\n",
    "        beta = r_dot_r_new / r_dot_r\n",
    "        r_dot_r = r_dot_r_new\n",
    "        p = r + beta * p\n",
    "#         print('--------- STEP {} --------'.format(k))\n",
    "#         print('x: ', x.flatten())\n",
    "#         print('p: ', p.flatten())\n",
    "#         print('r: ', r.flatten())\n",
    "#         print('alpha: ', alpha)\n",
    "#         print('beta: ', beta)\n",
    "    return x\n",
    "    \n",
    "\n",
    "# params = {'kernel_initializer': tf.orthogonal_initializer()}\n",
    "# with tf.variable_scope('tested'):\n",
    "#     x = tf.random_normal([64, 2])\n",
    "#     h = tf.layers.dense(x, 2, activation=tf.nn.sigmoid, **params)\n",
    "#     z = tf.layers.dense(h, 1, activation=tf.nn.tanh, **params)\n",
    "#     y = tf.random_uniform([64], -1.0, 1.0)\n",
    "#     loss = tf.reduce_mean(tf.square(z - y))\n",
    "\n",
    "\n",
    "# optim = tf.train.AdamOptimizer(2e-4)\n",
    "# vars = tf.get_collection(tf.GraphKeys.GLOBAL_VARIABLES, scope='tested')\n",
    "# grads_and_vars = optim.compute_gradients(loss, var_list=vars)\n",
    "# grads = [pair[0] for pair in grads_and_vars]\n",
    "# conj_grads = []\n",
    "# for g, var in zip(grads, vars):\n",
    "#     conj = build_conjugate_gradient(g, g, var)\n",
    "#     conj_grads.append((conj, var))\n",
    "# train_op = optim.apply_gradients(conj_grads)\n",
    "# hessian = tf.hessians(loss, vars)\n",
    "\n",
    "# sess = tf.Session()\n",
    "sess.run(tf.global_variables_initializer())\n",
    "\n",
    "a_vars = sess.run(vars)\n",
    "H = sess.run(hessian[0])\n",
    "H = H.reshape((H.shape[0] * H.shape[1], H.shape[2] * H.shape[3]))\n",
    "\n",
    "print('---------------------------')\n",
    "print('Variable:\\n', a_vars[0])\n",
    "print('Hessian matrix of rank {}:\\n'.format(np.linalg.matrix_rank(H)), H)\n",
    "\n",
    "g, cg = sess.run([grads[0], conj_grads[0][0]])\n",
    "cg_array = conjugate_gradient(g.reshape([-1, 1]), H)\n",
    "newton = np.matmul(np.linalg.inv(H), g.reshape([-1, 1]))\n",
    "\n",
    "print('Gradient of {}:\\n'.format(grads_and_vars[0][1].name), g)\n",
    "print('Conjugate gradient using TensorFlow:\\n', cg)\n",
    "print('Conjugate gradient using numpy:\\n', cg_array)\n",
    "print('Newton\\'s method:\\n', newton)"
   ]
  },
  {
   "cell_type": "code",
   "execution_count": null,
   "metadata": {},
   "outputs": [],
   "source": []
  }
 ],
 "metadata": {
  "kernelspec": {
   "display_name": "Python 3",
   "language": "python",
   "name": "python3"
  },
  "language_info": {
   "codemirror_mode": {
    "name": "ipython",
    "version": 3
   },
   "file_extension": ".py",
   "mimetype": "text/x-python",
   "name": "python",
   "nbconvert_exporter": "python",
   "pygments_lexer": "ipython3",
   "version": "3.6.4"
  }
 },
 "nbformat": 4,
 "nbformat_minor": 1
}
